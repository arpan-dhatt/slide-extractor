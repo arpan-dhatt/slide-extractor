{
 "cells": [
  {
   "cell_type": "code",
   "execution_count": 5,
   "id": "a6f6d7fd-525c-43f3-90db-b778cdcf8aec",
   "metadata": {},
   "outputs": [],
   "source": [
    "import cv2\n",
    "import numpy as np\n",
    "import img2pdf"
   ]
  },
  {
   "cell_type": "code",
   "execution_count": 6,
   "id": "54fdcd7d-84a8-4e6e-8c2a-6d5b30e75c54",
   "metadata": {},
   "outputs": [],
   "source": [
    "cap = cv2.VideoCapture(\"media/videos/his315k.mp4\")\n",
    "saveIm = \"media/slideOutput\""
   ]
  },
  {
   "cell_type": "code",
   "execution_count": 7,
   "id": "5f1e2413-c7bc-4183-8921-323b9bc595c8",
   "metadata": {},
   "outputs": [],
   "source": [
    "def get_diff(im1, im2):\n",
    "    if im1 is None or im2 is None:\n",
    "        return 0.0\n",
    "    return (np.absolute(im1 - im2) > 20).mean()"
   ]
  },
  {
   "cell_type": "code",
   "execution_count": 14,
   "id": "9e56577c-a330-4f68-a5db-8b1dd754985e",
   "metadata": {},
   "outputs": [
    {
     "ename": "KeyboardInterrupt",
     "evalue": "",
     "output_type": "error",
     "traceback": [
      "\u001b[0;31m---------------------------------------------------------------------------\u001b[0m",
      "\u001b[0;31mKeyboardInterrupt\u001b[0m                         Traceback (most recent call last)",
      "Input \u001b[0;32mIn [14]\u001b[0m, in \u001b[0;36m<module>\u001b[0;34m\u001b[0m\n\u001b[1;32m      3\u001b[0m last_cap \u001b[38;5;241m=\u001b[39m \u001b[38;5;241m0\u001b[39m\n\u001b[1;32m      4\u001b[0m \u001b[38;5;28;01mwhile\u001b[39;00m cap\u001b[38;5;241m.\u001b[39misOpened():\n\u001b[0;32m----> 5\u001b[0m     ret, frame \u001b[38;5;241m=\u001b[39m \u001b[43mcap\u001b[49m\u001b[38;5;241;43m.\u001b[39;49m\u001b[43mread\u001b[49m\u001b[43m(\u001b[49m\u001b[43m)\u001b[49m\n\u001b[1;32m      6\u001b[0m     \u001b[38;5;28;01mif\u001b[39;00m ret:\n\u001b[1;32m      7\u001b[0m         diff \u001b[38;5;241m=\u001b[39m get_diff(last_frame, frame)\n",
      "\u001b[0;31mKeyboardInterrupt\u001b[0m: "
     ]
    }
   ],
   "source": [
    "count = 0\n",
    "last_frame = None\n",
    "last_cap = 0\n",
    "while cap.isOpened():\n",
    "    ret, frame = cap.read()\n",
    "    if ret:\n",
    "        diff = get_diff(last_frame, frame)\n",
    "        if diff > 0.15:\n",
    "            if (count - last_cap) > 60:\n",
    "                cv2.imwrite(f\"{saveIm}/{count}-{diff}-bef.jpg\", last_frame)\n",
    "                cv2.imwrite(f\"{saveIm}/{count}-{diff}-aft.jpg\", frame)\n",
    "            last_cap = count\n",
    "        last_frame = frame\n",
    "        count += 30 # i.e. at 30 fps, this advances one second\n",
    "        cap.set(cv2.CAP_PROP_POS_FRAMES, count)\n",
    "    else:\n",
    "        cap.release()\n",
    "        break"
   ]
  },
  {
   "cell_type": "code",
   "execution_count": 6,
   "id": "aac89232-5b95-4798-a725-e51e8df84965",
   "metadata": {},
   "outputs": [],
   "source": [
    "!rm ./media/saveIm/*.jpg"
   ]
  },
  {
   "cell_type": "code",
   "execution_count": 8,
   "id": "49f7d5ff-cb9c-4c04-91d4-4c6adf2d5ef1",
   "metadata": {},
   "outputs": [],
   "source": [
    "import os\n",
    "import time\n",
    "\n",
    "list_of_files = filter( lambda x: os.path.isfile(os.path.join(saveIm, x)),\n",
    "                        os.listdir(saveIm) )\n",
    "list_of_files = sorted( list_of_files,\n",
    "                        key = lambda x: os.path.getmtime(os.path.join(saveIm, x))\n",
    "                        )"
   ]
  },
  {
   "cell_type": "code",
   "execution_count": 14,
   "id": "0b110bc9",
   "metadata": {},
   "outputs": [
    {
     "data": {
      "text/plain": [
       "['12900-0.44728459362139916-bef.jpg',\n",
       " '12900-0.44728459362139916-aft.jpg',\n",
       " '13050-0.7317425411522633-bef.jpg',\n",
       " '13050-0.7317425411522633-aft.jpg',\n",
       " '13170-0.3564499742798354-bef.jpg',\n",
       " '13170-0.3564499742798354-aft.jpg',\n",
       " '21720-0.4988477366255144-bef.jpg',\n",
       " '21720-0.4988477366255144-aft.jpg',\n",
       " '24030-0.4858230452674897-bef.jpg',\n",
       " '24030-0.4858230452674897-aft.jpg',\n",
       " '25680-0.15332818930041153-bef.jpg',\n",
       " '25680-0.15332818930041153-aft.jpg',\n",
       " '28320-0.6021637088477366-bef.jpg',\n",
       " '28320-0.6021637088477366-aft.jpg',\n",
       " '31980-0.15579218106995885-bef.jpg',\n",
       " '31980-0.15579218106995885-aft.jpg',\n",
       " '32940-0.5485635288065843-bef.jpg',\n",
       " '32940-0.5485635288065843-aft.jpg',\n",
       " '42420-0.2750443672839506-bef.jpg',\n",
       " '42420-0.2750443672839506-aft.jpg',\n",
       " '49170-0.4512049897119342-bef.jpg',\n",
       " '49170-0.4512049897119342-aft.jpg',\n",
       " '53430-0.4966602366255144-bef.jpg',\n",
       " '53430-0.4966602366255144-aft.jpg',\n",
       " '56940-0.42425861625514405-bef.jpg',\n",
       " '56940-0.42425861625514405-aft.jpg',\n",
       " '67440-0.24939300411522633-bef.jpg',\n",
       " '67440-0.24939300411522633-aft.jpg']"
      ]
     },
     "execution_count": 14,
     "metadata": {},
     "output_type": "execute_result"
    }
   ],
   "source": [
    "list_of_files"
   ]
  },
  {
   "cell_type": "code",
   "execution_count": 19,
   "id": "eb8d5526",
   "metadata": {},
   "outputs": [],
   "source": [
    "import img2pdf\n",
    "with open(\"output2.pdf\", \"wb\") as f:\n",
    "    f.write(img2pdf.convert([f\"{saveIm}/{list_of_files[0]}\"]+[f\"{saveIm}/{i}\" for i in list_of_files if i.endswith(\"aft.jpg\")]))"
   ]
  }
 ],
 "metadata": {
  "kernelspec": {
   "display_name": "Python 3 (ipykernel)",
   "language": "python",
   "name": "python3"
  },
  "language_info": {
   "codemirror_mode": {
    "name": "ipython",
    "version": 3
   },
   "file_extension": ".py",
   "mimetype": "text/x-python",
   "name": "python",
   "nbconvert_exporter": "python",
   "pygments_lexer": "ipython3",
   "version": "3.9.2"
  }
 },
 "nbformat": 4,
 "nbformat_minor": 5
}

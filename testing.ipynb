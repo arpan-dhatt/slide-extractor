{
 "cells": [
  {
   "cell_type": "code",
   "execution_count": 2,
   "id": "a6f6d7fd-525c-43f3-90db-b778cdcf8aec",
   "metadata": {},
   "outputs": [],
   "source": [
    "import cv2\n",
    "import numpy as np"
   ]
  },
  {
   "cell_type": "code",
   "execution_count": 3,
   "id": "54fdcd7d-84a8-4e6e-8c2a-6d5b30e75c54",
   "metadata": {},
   "outputs": [],
   "source": [
    "cap = cv2.VideoCapture(\"./media/videos/his315k.mp4\")"
   ]
  },
  {
   "cell_type": "code",
   "execution_count": 4,
   "id": "5f1e2413-c7bc-4183-8921-323b9bc595c8",
   "metadata": {},
   "outputs": [],
   "source": [
    "def get_diff(im1, im2):\n",
    "    if im1 is None or im2 is None:\n",
    "        return 0.0\n",
    "    return (np.absolute(im1 - im2) > 20).mean()"
   ]
  },
  {
   "cell_type": "code",
   "execution_count": 5,
   "id": "9e56577c-a330-4f68-a5db-8b1dd754985e",
   "metadata": {},
   "outputs": [],
   "source": [
    "count = 0\n",
    "last_frame = None\n",
    "last_cap = 0\n",
    "while cap.isOpened():\n",
    "    ret, frame = cap.read()\n",
    "    if ret:\n",
    "        diff = get_diff(last_frame, frame)\n",
    "        if diff > 0.15:\n",
    "            if (count - last_cap) > 60:\n",
    "                cv2.imwrite(f\"{count}-{diff}-bef.jpg\", last_frame)\n",
    "                cv2.imwrite(f\"{count}-{diff}-aft.jpg\", frame)\n",
    "            last_cap = count\n",
    "        last_frame = frame\n",
    "        count += 30 # i.e. at 30 fps, this advances one second\n",
    "        cap.set(cv2.CAP_PROP_POS_FRAMES, count)\n",
    "    else:\n",
    "        cap.release()\n",
    "        break"
   ]
  },
  {
   "cell_type": "code",
   "execution_count": 6,
   "id": "aac89232-5b95-4798-a725-e51e8df84965",
   "metadata": {},
   "outputs": [],
   "source": [
    "!rm ./*.jpg"
   ]
  },
  {
   "cell_type": "code",
   "execution_count": null,
   "id": "49f7d5ff-cb9c-4c04-91d4-4c6adf2d5ef1",
   "metadata": {},
   "outputs": [],
   "source": []
  }
 ],
 "metadata": {
  "kernelspec": {
   "display_name": "Python 3 (ipykernel)",
   "language": "python",
   "name": "python3"
  },
  "language_info": {
   "codemirror_mode": {
    "name": "ipython",
    "version": 3
   },
   "file_extension": ".py",
   "mimetype": "text/x-python",
   "name": "python",
   "nbconvert_exporter": "python",
   "pygments_lexer": "ipython3",
   "version": "3.9.10"
  }
 },
 "nbformat": 4,
 "nbformat_minor": 5
}
